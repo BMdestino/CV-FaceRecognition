{
 "cells": [
  {
   "cell_type": "code",
   "execution_count": null,
   "id": "7ec74bef-5748-4ad3-bd3d-8bd67ac922b6",
   "metadata": {},
   "outputs": [],
   "source": []
  }
 ],
 "metadata": {
  "kernelspec": {
   "display_name": "",
   "name": ""
  },
  "language_info": {
   "name": ""
  }
 },
 "nbformat": 4,
 "nbformat_minor": 5
}
