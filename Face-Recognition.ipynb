{
 "cells": [
  {
   "cell_type": "markdown",
   "id": "f587814f-3737-449e-ab1c-9926af8994f8",
   "metadata": {},
   "source": [
    "# I. DATASET GENERATING"
   ]
  },
  {
   "cell_type": "code",
   "execution_count": 1,
   "id": "b42b3309-6dd6-4ec5-8fa8-677d6937086a",
   "metadata": {},
   "outputs": [],
   "source": [
    "import cv2\n",
    "import os"
   ]
  },
  {
   "cell_type": "code",
   "execution_count": 2,
   "id": "2eb0559f-cd4c-4be2-8d83-2cea826f1d6b",
   "metadata": {},
   "outputs": [],
   "source": [
    "def generate_dataset():\n",
    "    face_classifier = cv2.CascadeClassifier(\"haarcascade_frontalface_default.xml\")\n",
    "\n",
    "    def face_cropped(img):\n",
    "        gray = cv2.cvtColor(img, cv2.COLOR_BGR2GRAY)\n",
    "        faces = face_classifier.detectMultiScale(gray, 1.3, 5)\n",
    "        if len(faces) == 0:\n",
    "            return None\n",
    "        for (x, y, w, h) in faces:\n",
    "            cropped_face = img[y:y+h, x:x+w]\n",
    "            return cropped_face\n",
    "\n",
    "    # Chemin vers le dossier principal sur le bureau\n",
    "    project_path = os.path.join(os.path.expanduser(\"~\"), \"Desktop\", \"BMproject-cmpmnt\")\n",
    "    # Chemin vers le sous-dossier 'captured_img'\n",
    "    captured_img_path = os.path.join(project_path, \"captured_img\")\n",
    "\n",
    "    # Vérifier si le dossier existe, sinon le créer\n",
    "    #if not os.path.exists(captured_img_path):\n",
    "        #os.makedirs(captured_img_path)\n",
    "\n",
    "    cap = cv2.VideoCapture(0)\n",
    "    id = 1\n",
    "    img_id = 0\n",
    "\n",
    "    while True:\n",
    "        ret, frame = cap.read()\n",
    "        if not ret:\n",
    "            break\n",
    "        \n",
    "        if face_cropped(frame) is not None:\n",
    "            img_id += 1\n",
    "            face = cv2.resize(face_cropped(frame), (200, 200)) # Ici c'est la dimension de chaque image capturée 200 x 200\n",
    "            #face_gray = cv2.cvtColor(face, cv2.COLOR_BGR2GRAY) Ceci traite les images en dimension de gri qui le fait sortir en noire et blanc\n",
    "            file_name_path = os.path.join(captured_img_path, f\"user.{id}.{img_id}.jpg\")\n",
    "            \n",
    "            #cv2.imwrite(file_name_path, face_gray) \n",
    "            cv2.imwrite(file_name_path, face) # Donc ici nous appellons directement face sans passer par face_gray pourque \n",
    "            #les images soient comme telles càd en couleur \n",
    "            cv2.putText(face, str(img_id), (50, 50), cv2.FONT_HERSHEY_COMPLEX, 1, (0, 255, 0), 2)\n",
    "            cv2.imshow(\"cropped face\", face)\n",
    "\n",
    "            if cv2.waitKey(1) == ord('q') or img_id >= 100:\n",
    "                break\n",
    "\n",
    "    cap.release()\n",
    "    cv2.destroyAllWindows()\n",
    "    print(\"Collection complete!\")\n",
    "\n",
    "# Appeler la fonction pour démarrer la collecte de données\n",
    "#generate_dataset()"
   ]
  },
  {
   "cell_type": "markdown",
   "id": "4c2c9ba0-d4a5-4a0c-8de4-a65d9303e91b",
   "metadata": {},
   "source": [
    "# II. CLASSIFIER TRAINNING AND SAVING"
   ]
  },
  {
   "cell_type": "code",
   "execution_count": 3,
   "id": "4f6f0b45-d64e-43a7-975c-3e4be24189c4",
   "metadata": {},
   "outputs": [],
   "source": [
    "from PIL import Image\n",
    "import os\n",
    "import numpy as np\n",
    "import cv2"
   ]
  },
  {
   "cell_type": "code",
   "execution_count": 4,
   "id": "2f992f6e-bfb3-451a-8b05-d800309de8a4",
   "metadata": {},
   "outputs": [],
   "source": [
    "def train_classifier(data_dir):\n",
    "    path = [os.path.join(data_dir,f) for f in os.listdir(data_dir)]\n",
    "    faces = []\n",
    "    ids = []\n",
    "    \n",
    "    for image in path:\n",
    "        img = Image.open(image).convert('L'); # Pour convertir les images en niveaux de gris\n",
    "        imageNp = np.array(img, 'uint8') # Elle convertit l'image \"img\", qui est un objet de type PIL.Image, en un tableau NumPy (numpy.ndarray).\n",
    "        # Le second argument 'uint8' spécifie que les éléments du tableau seront de type entier non signé sur 8 bits. \n",
    "        # Cela signifie que chaque valeur dans le tableau sera comprise entre 0 et 255, ce qui est approprié pour \n",
    "        # représenter les niveaux d'intensité des pixels dans une image en niveaux de gris.\n",
    "        id = int(os.path.split(image)[1].split(\".\")[1])# Pour converit les id en entier\n",
    "\n",
    "        # NB: Cette conversion est essentielle pour le traitement d'images avec OpenCV, car OpenCV fonctionne principalement avec des tableaux NumPy. \n",
    "        # En utilisant un tableau de type uint8, \n",
    "        # vous pouvez ensuite appliquer des opérations de traitement d'image, \n",
    "        # comme la détection de visages ou d'autres transformations.\n",
    "        \n",
    "        faces.append(imageNp) # Ajoute le tableau NumPy \"imageNp\", qui représente une image de visage en niveaux de gris, à la liste faces.\n",
    "        ids.append(id) # Ajoute l'identifiant \"id\" (qui représente l'identité de la personne associée à l'image) à la liste ids.\n",
    "    ids = np.array(ids) # Convertir la liste en tableau numpy\n",
    "\n",
    "\n",
    "\n",
    "    # NB: (1) Cette liste ids accumule tous les identifiants correspondants aux images de visages, \n",
    "          #permettant de relier chaque image à une personne spécifique lors de l'entraînement.\n",
    "    # NB: (2) Ces deux listes (faces et ids) sont essentielles pour entraîner le modèle de reconnaissance faciale. \n",
    "             # Lors de l'entraînement, le modèle apprend à associer chaque image de visage à son identifiant correspondant, \n",
    "            # ce qui lui permet de reconnaître des visages dans des images futures\n",
    "                  \n",
    "    # ====== TRAINING THE CLASSIFIER AND SAVE\n",
    "                   \n",
    "    clf = cv2.face.LBPHFaceRecognizer_create()\n",
    "    clf.train(faces,ids)\n",
    "    clf.write(\"classifier.xml\")\n",
    "train_classifier(\"captured_img\")\n",
    "\n",
    "    "
   ]
  },
  {
   "cell_type": "markdown",
   "id": "aeb0356d-e9d0-450c-ae12-e45361d6224b",
   "metadata": {},
   "source": [
    "# III. FACE DETECTING AND NAMING"
   ]
  },
  {
   "cell_type": "code",
   "execution_count": null,
   "id": "d941790f-6e7e-4523-afae-3d31bda1379e",
   "metadata": {},
   "outputs": [],
   "source": []
  }
 ],
 "metadata": {
  "kernelspec": {
   "display_name": "Python 3 (ipykernel)",
   "language": "python",
   "name": "python3"
  },
  "language_info": {
   "codemirror_mode": {
    "name": "ipython",
    "version": 3
   },
   "file_extension": ".py",
   "mimetype": "text/x-python",
   "name": "python",
   "nbconvert_exporter": "python",
   "pygments_lexer": "ipython3",
   "version": "3.10.16"
  }
 },
 "nbformat": 4,
 "nbformat_minor": 5
}
