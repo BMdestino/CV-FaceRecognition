{
 "cells": [
  {
   "cell_type": "markdown",
   "id": "6c9650c2",
   "metadata": {},
   "source": [
    "# I. GENERATE DATASET"
   ]
  },
  {
   "cell_type": "code",
   "execution_count": null,
   "id": "e17b3814",
   "metadata": {},
   "outputs": [
    {
     "ename": "",
     "evalue": "",
     "output_type": "error",
     "traceback": [
      "\u001b[1;31mRunning cells with 'Python 3.9.0' requires the ipykernel package.\n",
      "\u001b[1;31m<a href='command:jupyter.createPythonEnvAndSelectController'>Create a Python Environment</a> with the required packages.\n",
      "\u001b[1;31mOr install 'ipykernel' using the command: 'conda install -p \\ ipykernel --update-deps --force-reinstall'"
     ]
    }
   ],
   "source": [
    "import cv2\n"
   ]
  },
  {
   "cell_type": "code",
   "execution_count": null,
   "id": "b425b66d",
   "metadata": {},
   "outputs": [],
   "source": [
    "def generate_dataset():\n",
    "    face_classifier = cv2.CascadeClassifier(\"haarcascade_frontalface_default.xml\")\n",
    "    def face_cropped(img):\n",
    "        gray = cv.2.cvtColor(img, cv2.COLOR_BGR2GRAY)\n",
    "        faces = face_classifier.detectMultiScale(gray,1.3,5)\n",
    "           # scaling factor:1.3\n",
    "           # Minimum neighbor:5\n",
    "        if face is ():\n",
    "            return None\n",
    "        for(x,y,w,h) in faces:\n",
    "            cropped_face = img[y:y+h,x:x+w]\n",
    "        return cropped_face\n",
    "    cap = cv2.VideoCapture(0)\n",
    "    id = 1\n",
    "    img_id = 0\n",
    "    \n",
    "    while True:\n",
    "        ret,frame = cap.read()\n",
    "        if face_cropped(frame) is not None:\n",
    "            img_id+=1\n",
    "            face = cv2.resize(face_cropped(frame),(200,200))\n",
    "            face = cv2.cvtColor(face, COLOR_BGR2GRAY)\n",
    "            file_path = \"captured_img/user.\"+str(id)+\".\"+str(img_id)+\".jpg\"\n",
    "            \n",
    "            cv2.imwrite(file_name_path,face)\n",
    "            cv2.putText(face, str(img_id),(50,50),cv2.FONT_HERSHEY_COMPLEX,1,(0,255,0),2)\n",
    "            # 50,50 is the origin point from where text is to be written\n",
    "            # font scale:1, thickness:2\n",
    "            cv.imshow(\"cropped face\", face)\n",
    "            if cv2.waitKey(1)== or int(im_id)==100:\n",
    "                break\n",
    "            cap.release()\n",
    "            cv2.destroyAllWindows()\n",
    "            print(\"Collection complete!\")\n",
    "generate_dataset()     \n",
    "        "
   ]
  },
  {
   "cell_type": "markdown",
   "id": "fb4d4148",
   "metadata": {},
   "source": [
    "# II. CLASSIFIER TRAINING AND SAVING"
   ]
  },
  {
   "cell_type": "code",
   "execution_count": null,
   "id": "b0d7bb1d",
   "metadata": {},
   "outputs": [],
   "source": [
    "\n",
    "from PIL import Image\n",
    "import os\n",
    "import numpy as np"
   ]
  },
  {
   "cell_type": "code",
   "execution_count": null,
   "id": "a08067b2",
   "metadata": {},
   "outputs": [],
   "source": [
    "def train_classifier(data_dir):\n",
    "    path = [os.path.join(data_dir,f) for f in os.listdir(data_dir)]\n",
    "    faces = []\n",
    "    ids = []\n",
    "    \n",
    "    for image in path:\n",
    "        img = Image.open(image).convert('L');\n",
    "        imageNp = np.array(img, 'uint8')\n",
    "        id = os.path.splir(image)[1].split(\".\")[1]\n",
    "        \n",
    "        faces.append(imageNp)\n",
    "        ids.append(id)\n",
    "    ids = np.array(ids)\n",
    "    "
   ]
  },
  {
   "cell_type": "markdown",
   "id": "3925a6c6",
   "metadata": {},
   "source": [
    "# III. FACE DETECTING AND NAMING"
   ]
  },
  {
   "cell_type": "code",
   "execution_count": null,
   "id": "823da29a",
   "metadata": {},
   "outputs": [],
   "source": []
  }
 ],
 "metadata": {
  "kernelspec": {
   "display_name": "Python 3 (ipykernel)",
   "language": "python",
   "name": "python3"
  },
  "language_info": {
   "codemirror_mode": {
    "name": "ipython",
    "version": 3
   },
   "file_extension": ".py",
   "mimetype": "text/x-python",
   "name": "python",
   "nbconvert_exporter": "python",
   "pygments_lexer": "ipython3",
   "version": "3.9.13"
  }
 },
 "nbformat": 4,
 "nbformat_minor": 5
}
